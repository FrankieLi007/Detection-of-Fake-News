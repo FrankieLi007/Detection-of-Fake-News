{
 "cells": [
  {
   "cell_type": "markdown",
   "id": "median-definition",
   "metadata": {},
   "source": [
    "# Back to Basic: Detection of Fake News Using Traditional Machine Learning Classifiers"
   ]
  },
  {
   "cell_type": "code",
   "execution_count": 1,
   "id": "revolutionary-algeria",
   "metadata": {},
   "outputs": [],
   "source": [
    "#%reload_ext watermark\n",
    "#%watermark -a \"Cheuk Yu IP, Fu-kay LI Frankie\" -u -d -p numpy,pandas,matplotlib"
   ]
  },
  {
   "cell_type": "markdown",
   "id": "close-uganda",
   "metadata": {},
   "source": [
    "## Overview"
   ]
  },
  {
   "cell_type": "markdown",
   "id": "electoral-application",
   "metadata": {},
   "source": [
    "We choose the dataset extracted from the Chinese COVID-19 Fake News Dataset (CHECKED) prepared by Yang et al. 2021. The CHECKED data set contained 2,104 verified microblogs related to COVID-19 between December 2019 and August 2020 from Weibo, one of the most popular social media platform in China.  The true news microblogs were collected from the Weibo account of China Daily , the largest newspaper group in China, and the fake news microblogs were collected from Weibo Community Management Center , an official platform providing fact-check results of suspected fake news.  Of the 2104 microblogs, 1760 were labelled “Real” (true news) and 344 were labelled “Fake” (fake news).  Auxiliary information of each selected microblog, namely (i) number of comments (comment_num), (ii) number re-post (repost_num) and (iii) number of likes (like_num) of each microblog from CHECKED were also extracted.  Other details of the microblogs in CHECKED, including details of reposts, contend of 1,185,702 comments were not used in this paper for simplicity.  \n",
    "\n",
    "In the data cleaning process, we manually verified the content of each dataset and found that the contextual meaning of 13 out of 2104 microblog should be classified as \"opinion\", i.e. neither true or fake news.  For the sake of fairness in training, we removed these 13 items.  The total number of microblog in our data set remains 2,091 (including 344 fake news and 1,747 real news)."
   ]
  },
  {
   "cell_type": "markdown",
   "id": "champion-structure",
   "metadata": {},
   "source": [
    "We further analyzed different quantitative textual features of each of the 2,091 microblogs and modified the datasets by creating additional features that we belive they are significant in differentiating fake news and true news:\n",
    "\n",
    "1.\tComment_num: Number of comments of the microblog.\n",
    "2.  Repost_num: Number of re-post of the microblog.\n",
    "3.  Like_num: Number of \"Likes\" awarded to the microblog by readers.\n",
    "4.  CntWord: Total number of words of the microblog.\n",
    "5.\tWordPerSentence: Average number of words per sentence.\n",
    "6.\tTitleLen: Total number of words of the title.\n",
    "7.\tTitleCnt_Exclaimation: Total number of exclamation mark (!) in the title.\n",
    "8.\tTitleCnt_Question: Total number of question mark (?) in the title.\n",
    "9.\tTextCnt_Exclaimation: Total number of exclamation mark (!) in the text.\n",
    "10.\tTextCnt_Question: Total number of question mark (?) in the text.\n",
    "\n",
    "\n",
    "### Note:\n",
    "\n",
    "The original datasets can be found the dataset download links at: https://github.com/cyang03/CHECKED/tree/master/dataset\n",
    "\n",
    "fake_news.csv \n",
    "https://drive.google.com/file/d/1AYH9QEilpwGGNkI2_PVOKJmU5fCVsWIX/ \n",
    "true_news.csv\n",
    "https://drive.google.com/file/d/17PqIetV03JJHqajOim0ZfHhHS2P3UwrJ/ \n",
    "\n",
    "We imported the csv files into a Excel spreadsheet (called: News_DataSet_Analyzed_value.xlsx) and modified the datasets by extracting features and removed [13] records from the real_news spreadsheet. Based on the Excel spreadsheet, we generated two csv data files called \"fake_news_modified.csv\" and \"real_news_modified.csv\"\n",
    "We also removed two \"text\" and \"title\" data column and add label to identify (marked real = 0, fake = 1) for the training and testing data"
   ]
  },
  {
   "cell_type": "markdown",
   "id": "stopped-crazy",
   "metadata": {},
   "source": [
    "## Reading-in the CHECKED- Chinese COVID-19 fake news dataset"
   ]
  },
  {
   "cell_type": "code",
   "execution_count": 2,
   "id": "mental-indianapolis",
   "metadata": {},
   "outputs": [
    {
     "name": "stdout",
     "output_type": "stream",
     "text": [
      "344\n"
     ]
    },
    {
     "data": {
      "text/html": [
       "<div>\n",
       "<style scoped>\n",
       "    .dataframe tbody tr th:only-of-type {\n",
       "        vertical-align: middle;\n",
       "    }\n",
       "\n",
       "    .dataframe tbody tr th {\n",
       "        vertical-align: top;\n",
       "    }\n",
       "\n",
       "    .dataframe thead th {\n",
       "        text-align: right;\n",
       "    }\n",
       "</style>\n",
       "<table border=\"1\" class=\"dataframe\">\n",
       "  <thead>\n",
       "    <tr style=\"text-align: right;\">\n",
       "      <th></th>\n",
       "      <th>label</th>\n",
       "      <th>comment_num</th>\n",
       "      <th>repost_num</th>\n",
       "      <th>like_num</th>\n",
       "      <th>CntWord</th>\n",
       "      <th>WordPerSentence</th>\n",
       "      <th>TitleLen</th>\n",
       "      <th>TitleCnt_Exclaimation</th>\n",
       "      <th>TitleCnt_Question</th>\n",
       "      <th>TextCnt_Exclaimation</th>\n",
       "      <th>TextCnt_Question</th>\n",
       "    </tr>\n",
       "    <tr>\n",
       "      <th>label_text</th>\n",
       "      <th></th>\n",
       "      <th></th>\n",
       "      <th></th>\n",
       "      <th></th>\n",
       "      <th></th>\n",
       "      <th></th>\n",
       "      <th></th>\n",
       "      <th></th>\n",
       "      <th></th>\n",
       "      <th></th>\n",
       "      <th></th>\n",
       "    </tr>\n",
       "  </thead>\n",
       "  <tbody>\n",
       "    <tr>\n",
       "      <th>fake</th>\n",
       "      <td>1</td>\n",
       "      <td>4</td>\n",
       "      <td>2</td>\n",
       "      <td>30</td>\n",
       "      <td>113</td>\n",
       "      <td>113.0</td>\n",
       "      <td>0</td>\n",
       "      <td>0</td>\n",
       "      <td>0</td>\n",
       "      <td>0</td>\n",
       "      <td>0</td>\n",
       "    </tr>\n",
       "    <tr>\n",
       "      <th>fake</th>\n",
       "      <td>1</td>\n",
       "      <td>0</td>\n",
       "      <td>0</td>\n",
       "      <td>0</td>\n",
       "      <td>67</td>\n",
       "      <td>67.0</td>\n",
       "      <td>0</td>\n",
       "      <td>0</td>\n",
       "      <td>0</td>\n",
       "      <td>1</td>\n",
       "      <td>0</td>\n",
       "    </tr>\n",
       "    <tr>\n",
       "      <th>fake</th>\n",
       "      <td>1</td>\n",
       "      <td>3</td>\n",
       "      <td>2</td>\n",
       "      <td>4</td>\n",
       "      <td>111</td>\n",
       "      <td>111.0</td>\n",
       "      <td>27</td>\n",
       "      <td>0</td>\n",
       "      <td>0</td>\n",
       "      <td>0</td>\n",
       "      <td>0</td>\n",
       "    </tr>\n",
       "    <tr>\n",
       "      <th>fake</th>\n",
       "      <td>1</td>\n",
       "      <td>0</td>\n",
       "      <td>0</td>\n",
       "      <td>0</td>\n",
       "      <td>229</td>\n",
       "      <td>45.8</td>\n",
       "      <td>0</td>\n",
       "      <td>0</td>\n",
       "      <td>0</td>\n",
       "      <td>2</td>\n",
       "      <td>0</td>\n",
       "    </tr>\n",
       "    <tr>\n",
       "      <th>fake</th>\n",
       "      <td>1</td>\n",
       "      <td>16</td>\n",
       "      <td>2</td>\n",
       "      <td>9</td>\n",
       "      <td>115</td>\n",
       "      <td>38.3</td>\n",
       "      <td>0</td>\n",
       "      <td>0</td>\n",
       "      <td>0</td>\n",
       "      <td>0</td>\n",
       "      <td>0</td>\n",
       "    </tr>\n",
       "  </tbody>\n",
       "</table>\n",
       "</div>"
      ],
      "text/plain": [
       "            label  comment_num  repost_num  like_num  CntWord  \\\n",
       "label_text                                                      \n",
       "fake            1            4           2        30      113   \n",
       "fake            1            0           0         0       67   \n",
       "fake            1            3           2         4      111   \n",
       "fake            1            0           0         0      229   \n",
       "fake            1           16           2         9      115   \n",
       "\n",
       "            WordPerSentence  TitleLen  TitleCnt_Exclaimation  \\\n",
       "label_text                                                     \n",
       "fake                  113.0         0                      0   \n",
       "fake                   67.0         0                      0   \n",
       "fake                  111.0        27                      0   \n",
       "fake                   45.8         0                      0   \n",
       "fake                   38.3         0                      0   \n",
       "\n",
       "            TitleCnt_Question  TextCnt_Exclaimation  TextCnt_Question  \n",
       "label_text                                                             \n",
       "fake                        0                     0                 0  \n",
       "fake                        0                     1                 0  \n",
       "fake                        0                     0                 0  \n",
       "fake                        0                     2                 0  \n",
       "fake                        0                     0                 0  "
      ]
     },
     "execution_count": 2,
     "metadata": {},
     "output_type": "execute_result"
    }
   ],
   "source": [
    "import os\n",
    "import pandas as pd\n",
    "\n",
    "fn = pd.read_csv('fake_news_modified_v2.csv',\n",
    "                 index_col=0)\n",
    "# Show number of fake news read\n",
    "print(fn.shape[0])\n",
    "fn.head()"
   ]
  },
  {
   "cell_type": "code",
   "execution_count": 3,
   "id": "metropolitan-theory",
   "metadata": {},
   "outputs": [
    {
     "name": "stdout",
     "output_type": "stream",
     "text": [
      "1747\n"
     ]
    },
    {
     "data": {
      "text/html": [
       "<div>\n",
       "<style scoped>\n",
       "    .dataframe tbody tr th:only-of-type {\n",
       "        vertical-align: middle;\n",
       "    }\n",
       "\n",
       "    .dataframe tbody tr th {\n",
       "        vertical-align: top;\n",
       "    }\n",
       "\n",
       "    .dataframe thead th {\n",
       "        text-align: right;\n",
       "    }\n",
       "</style>\n",
       "<table border=\"1\" class=\"dataframe\">\n",
       "  <thead>\n",
       "    <tr style=\"text-align: right;\">\n",
       "      <th></th>\n",
       "      <th>label</th>\n",
       "      <th>comment_num</th>\n",
       "      <th>repost_num</th>\n",
       "      <th>like_num</th>\n",
       "      <th>CntWord</th>\n",
       "      <th>WordPerSentence</th>\n",
       "      <th>TitleLen</th>\n",
       "      <th>TitleCnt_Exclaimation</th>\n",
       "      <th>TitleCnt_Question</th>\n",
       "      <th>TextCnt_Exclaimation</th>\n",
       "      <th>TextCnt_Question</th>\n",
       "    </tr>\n",
       "    <tr>\n",
       "      <th>label_text</th>\n",
       "      <th></th>\n",
       "      <th></th>\n",
       "      <th></th>\n",
       "      <th></th>\n",
       "      <th></th>\n",
       "      <th></th>\n",
       "      <th></th>\n",
       "      <th></th>\n",
       "      <th></th>\n",
       "      <th></th>\n",
       "      <th></th>\n",
       "    </tr>\n",
       "  </thead>\n",
       "  <tbody>\n",
       "    <tr>\n",
       "      <th>real</th>\n",
       "      <td>0</td>\n",
       "      <td>396</td>\n",
       "      <td>601</td>\n",
       "      <td>3955</td>\n",
       "      <td>169</td>\n",
       "      <td>42.3</td>\n",
       "      <td>23</td>\n",
       "      <td>1</td>\n",
       "      <td>0</td>\n",
       "      <td>0</td>\n",
       "      <td>0</td>\n",
       "    </tr>\n",
       "    <tr>\n",
       "      <th>real</th>\n",
       "      <td>0</td>\n",
       "      <td>765</td>\n",
       "      <td>345</td>\n",
       "      <td>4949</td>\n",
       "      <td>441</td>\n",
       "      <td>44.1</td>\n",
       "      <td>26</td>\n",
       "      <td>0</td>\n",
       "      <td>0</td>\n",
       "      <td>0</td>\n",
       "      <td>0</td>\n",
       "    </tr>\n",
       "    <tr>\n",
       "      <th>real</th>\n",
       "      <td>0</td>\n",
       "      <td>670</td>\n",
       "      <td>606</td>\n",
       "      <td>3510</td>\n",
       "      <td>108</td>\n",
       "      <td>108.0</td>\n",
       "      <td>21</td>\n",
       "      <td>0</td>\n",
       "      <td>0</td>\n",
       "      <td>0</td>\n",
       "      <td>0</td>\n",
       "    </tr>\n",
       "    <tr>\n",
       "      <th>real</th>\n",
       "      <td>0</td>\n",
       "      <td>2471</td>\n",
       "      <td>10110</td>\n",
       "      <td>23223</td>\n",
       "      <td>123</td>\n",
       "      <td>61.5</td>\n",
       "      <td>14</td>\n",
       "      <td>0</td>\n",
       "      <td>0</td>\n",
       "      <td>2</td>\n",
       "      <td>0</td>\n",
       "    </tr>\n",
       "    <tr>\n",
       "      <th>real</th>\n",
       "      <td>0</td>\n",
       "      <td>354</td>\n",
       "      <td>255</td>\n",
       "      <td>1980</td>\n",
       "      <td>180</td>\n",
       "      <td>90.0</td>\n",
       "      <td>17</td>\n",
       "      <td>0</td>\n",
       "      <td>0</td>\n",
       "      <td>0</td>\n",
       "      <td>0</td>\n",
       "    </tr>\n",
       "  </tbody>\n",
       "</table>\n",
       "</div>"
      ],
      "text/plain": [
       "            label  comment_num  repost_num  like_num  CntWord  \\\n",
       "label_text                                                      \n",
       "real            0          396         601      3955      169   \n",
       "real            0          765         345      4949      441   \n",
       "real            0          670         606      3510      108   \n",
       "real            0         2471       10110     23223      123   \n",
       "real            0          354         255      1980      180   \n",
       "\n",
       "            WordPerSentence  TitleLen  TitleCnt_Exclaimation  \\\n",
       "label_text                                                     \n",
       "real                   42.3        23                      1   \n",
       "real                   44.1        26                      0   \n",
       "real                  108.0        21                      0   \n",
       "real                   61.5        14                      0   \n",
       "real                   90.0        17                      0   \n",
       "\n",
       "            TitleCnt_Question  TextCnt_Exclaimation  TextCnt_Question  \n",
       "label_text                                                             \n",
       "real                        0                     0                 0  \n",
       "real                        0                     0                 0  \n",
       "real                        0                     0                 0  \n",
       "real                        0                     2                 0  \n",
       "real                        0                     0                 0  "
      ]
     },
     "execution_count": 3,
     "metadata": {},
     "output_type": "execute_result"
    }
   ],
   "source": [
    "rn = pd.read_csv('real_news_modified_v2.csv',\n",
    "                 index_col=0)\n",
    "# Show number of real new read\n",
    "print(rn.shape[0])\n",
    "rn.head()"
   ]
  },
  {
   "cell_type": "code",
   "execution_count": 4,
   "id": "speaking-canberra",
   "metadata": {},
   "outputs": [
    {
     "name": "stdout",
     "output_type": "stream",
     "text": [
      "2091\n"
     ]
    },
    {
     "data": {
      "text/html": [
       "<div>\n",
       "<style scoped>\n",
       "    .dataframe tbody tr th:only-of-type {\n",
       "        vertical-align: middle;\n",
       "    }\n",
       "\n",
       "    .dataframe tbody tr th {\n",
       "        vertical-align: top;\n",
       "    }\n",
       "\n",
       "    .dataframe thead th {\n",
       "        text-align: right;\n",
       "    }\n",
       "</style>\n",
       "<table border=\"1\" class=\"dataframe\">\n",
       "  <thead>\n",
       "    <tr style=\"text-align: right;\">\n",
       "      <th></th>\n",
       "      <th>label</th>\n",
       "      <th>comment_num</th>\n",
       "      <th>repost_num</th>\n",
       "      <th>like_num</th>\n",
       "      <th>CntWord</th>\n",
       "      <th>WordPerSentence</th>\n",
       "      <th>TitleLen</th>\n",
       "      <th>TitleCnt_Exclaimation</th>\n",
       "      <th>TitleCnt_Question</th>\n",
       "      <th>TextCnt_Exclaimation</th>\n",
       "      <th>TextCnt_Question</th>\n",
       "    </tr>\n",
       "    <tr>\n",
       "      <th>label_text</th>\n",
       "      <th></th>\n",
       "      <th></th>\n",
       "      <th></th>\n",
       "      <th></th>\n",
       "      <th></th>\n",
       "      <th></th>\n",
       "      <th></th>\n",
       "      <th></th>\n",
       "      <th></th>\n",
       "      <th></th>\n",
       "      <th></th>\n",
       "    </tr>\n",
       "  </thead>\n",
       "  <tbody>\n",
       "    <tr>\n",
       "      <th>real</th>\n",
       "      <td>0</td>\n",
       "      <td>2091</td>\n",
       "      <td>263</td>\n",
       "      <td>21436</td>\n",
       "      <td>101</td>\n",
       "      <td>50.5</td>\n",
       "      <td>18</td>\n",
       "      <td>0</td>\n",
       "      <td>0</td>\n",
       "      <td>1</td>\n",
       "      <td>0</td>\n",
       "    </tr>\n",
       "    <tr>\n",
       "      <th>real</th>\n",
       "      <td>0</td>\n",
       "      <td>6067</td>\n",
       "      <td>8209</td>\n",
       "      <td>311841</td>\n",
       "      <td>168</td>\n",
       "      <td>56.0</td>\n",
       "      <td>29</td>\n",
       "      <td>0</td>\n",
       "      <td>0</td>\n",
       "      <td>1</td>\n",
       "      <td>0</td>\n",
       "    </tr>\n",
       "    <tr>\n",
       "      <th>real</th>\n",
       "      <td>0</td>\n",
       "      <td>2009</td>\n",
       "      <td>1784</td>\n",
       "      <td>41240</td>\n",
       "      <td>168</td>\n",
       "      <td>84.0</td>\n",
       "      <td>18</td>\n",
       "      <td>0</td>\n",
       "      <td>0</td>\n",
       "      <td>0</td>\n",
       "      <td>0</td>\n",
       "    </tr>\n",
       "    <tr>\n",
       "      <th>real</th>\n",
       "      <td>0</td>\n",
       "      <td>659</td>\n",
       "      <td>539</td>\n",
       "      <td>5327</td>\n",
       "      <td>149</td>\n",
       "      <td>74.5</td>\n",
       "      <td>16</td>\n",
       "      <td>0</td>\n",
       "      <td>0</td>\n",
       "      <td>0</td>\n",
       "      <td>0</td>\n",
       "    </tr>\n",
       "    <tr>\n",
       "      <th>real</th>\n",
       "      <td>0</td>\n",
       "      <td>1841</td>\n",
       "      <td>2186</td>\n",
       "      <td>16558</td>\n",
       "      <td>141</td>\n",
       "      <td>28.2</td>\n",
       "      <td>16</td>\n",
       "      <td>0</td>\n",
       "      <td>0</td>\n",
       "      <td>3</td>\n",
       "      <td>0</td>\n",
       "    </tr>\n",
       "  </tbody>\n",
       "</table>\n",
       "</div>"
      ],
      "text/plain": [
       "            label  comment_num  repost_num  like_num  CntWord  \\\n",
       "label_text                                                      \n",
       "real            0         2091         263     21436      101   \n",
       "real            0         6067        8209    311841      168   \n",
       "real            0         2009        1784     41240      168   \n",
       "real            0          659         539      5327      149   \n",
       "real            0         1841        2186     16558      141   \n",
       "\n",
       "            WordPerSentence  TitleLen  TitleCnt_Exclaimation  \\\n",
       "label_text                                                     \n",
       "real                   50.5        18                      0   \n",
       "real                   56.0        29                      0   \n",
       "real                   84.0        18                      0   \n",
       "real                   74.5        16                      0   \n",
       "real                   28.2        16                      0   \n",
       "\n",
       "            TitleCnt_Question  TextCnt_Exclaimation  TextCnt_Question  \n",
       "label_text                                                             \n",
       "real                        0                     1                 0  \n",
       "real                        0                     1                 0  \n",
       "real                        0                     0                 0  \n",
       "real                        0                     0                 0  \n",
       "real                        0                     3                 0  "
      ]
     },
     "execution_count": 4,
     "metadata": {},
     "output_type": "execute_result"
    }
   ],
   "source": [
    "# Combine these two records\n",
    "df = pd.concat([fn,rn])\n",
    "# Show number of total number of records\n",
    "print(df.shape[0])\n",
    "df.tail()"
   ]
  },
  {
   "cell_type": "code",
   "execution_count": 5,
   "id": "motivated-permit",
   "metadata": {},
   "outputs": [
    {
     "data": {
      "text/html": [
       "<div>\n",
       "<style scoped>\n",
       "    .dataframe tbody tr th:only-of-type {\n",
       "        vertical-align: middle;\n",
       "    }\n",
       "\n",
       "    .dataframe tbody tr th {\n",
       "        vertical-align: top;\n",
       "    }\n",
       "\n",
       "    .dataframe thead th {\n",
       "        text-align: right;\n",
       "    }\n",
       "</style>\n",
       "<table border=\"1\" class=\"dataframe\">\n",
       "  <thead>\n",
       "    <tr style=\"text-align: right;\">\n",
       "      <th></th>\n",
       "      <th>label</th>\n",
       "      <th>comment_num</th>\n",
       "      <th>repost_num</th>\n",
       "      <th>like_num</th>\n",
       "      <th>CntWord</th>\n",
       "      <th>WordPerSentence</th>\n",
       "      <th>TitleLen</th>\n",
       "      <th>TitleCnt_Exclaimation</th>\n",
       "      <th>TitleCnt_Question</th>\n",
       "      <th>TextCnt_Exclaimation</th>\n",
       "      <th>TextCnt_Question</th>\n",
       "    </tr>\n",
       "    <tr>\n",
       "      <th>label_text</th>\n",
       "      <th></th>\n",
       "      <th></th>\n",
       "      <th></th>\n",
       "      <th></th>\n",
       "      <th></th>\n",
       "      <th></th>\n",
       "      <th></th>\n",
       "      <th></th>\n",
       "      <th></th>\n",
       "      <th></th>\n",
       "      <th></th>\n",
       "    </tr>\n",
       "  </thead>\n",
       "  <tbody>\n",
       "    <tr>\n",
       "      <th>fake</th>\n",
       "      <td>1</td>\n",
       "      <td>4</td>\n",
       "      <td>2</td>\n",
       "      <td>30</td>\n",
       "      <td>113</td>\n",
       "      <td>113.0</td>\n",
       "      <td>0</td>\n",
       "      <td>0</td>\n",
       "      <td>0</td>\n",
       "      <td>0</td>\n",
       "      <td>0</td>\n",
       "    </tr>\n",
       "    <tr>\n",
       "      <th>fake</th>\n",
       "      <td>1</td>\n",
       "      <td>0</td>\n",
       "      <td>0</td>\n",
       "      <td>0</td>\n",
       "      <td>67</td>\n",
       "      <td>67.0</td>\n",
       "      <td>0</td>\n",
       "      <td>0</td>\n",
       "      <td>0</td>\n",
       "      <td>1</td>\n",
       "      <td>0</td>\n",
       "    </tr>\n",
       "    <tr>\n",
       "      <th>fake</th>\n",
       "      <td>1</td>\n",
       "      <td>3</td>\n",
       "      <td>2</td>\n",
       "      <td>4</td>\n",
       "      <td>111</td>\n",
       "      <td>111.0</td>\n",
       "      <td>27</td>\n",
       "      <td>0</td>\n",
       "      <td>0</td>\n",
       "      <td>0</td>\n",
       "      <td>0</td>\n",
       "    </tr>\n",
       "    <tr>\n",
       "      <th>fake</th>\n",
       "      <td>1</td>\n",
       "      <td>0</td>\n",
       "      <td>0</td>\n",
       "      <td>0</td>\n",
       "      <td>229</td>\n",
       "      <td>45.8</td>\n",
       "      <td>0</td>\n",
       "      <td>0</td>\n",
       "      <td>0</td>\n",
       "      <td>2</td>\n",
       "      <td>0</td>\n",
       "    </tr>\n",
       "    <tr>\n",
       "      <th>fake</th>\n",
       "      <td>1</td>\n",
       "      <td>16</td>\n",
       "      <td>2</td>\n",
       "      <td>9</td>\n",
       "      <td>115</td>\n",
       "      <td>38.3</td>\n",
       "      <td>0</td>\n",
       "      <td>0</td>\n",
       "      <td>0</td>\n",
       "      <td>0</td>\n",
       "      <td>0</td>\n",
       "    </tr>\n",
       "  </tbody>\n",
       "</table>\n",
       "</div>"
      ],
      "text/plain": [
       "            label  comment_num  repost_num  like_num  CntWord  \\\n",
       "label_text                                                      \n",
       "fake            1            4           2        30      113   \n",
       "fake            1            0           0         0       67   \n",
       "fake            1            3           2         4      111   \n",
       "fake            1            0           0         0      229   \n",
       "fake            1           16           2         9      115   \n",
       "\n",
       "            WordPerSentence  TitleLen  TitleCnt_Exclaimation  \\\n",
       "label_text                                                     \n",
       "fake                  113.0         0                      0   \n",
       "fake                   67.0         0                      0   \n",
       "fake                  111.0        27                      0   \n",
       "fake                   45.8         0                      0   \n",
       "fake                   38.3         0                      0   \n",
       "\n",
       "            TitleCnt_Question  TextCnt_Exclaimation  TextCnt_Question  \n",
       "label_text                                                             \n",
       "fake                        0                     0                 0  \n",
       "fake                        0                     1                 0  \n",
       "fake                        0                     0                 0  \n",
       "fake                        0                     2                 0  \n",
       "fake                        0                     0                 0  "
      ]
     },
     "execution_count": 5,
     "metadata": {},
     "output_type": "execute_result"
    }
   ],
   "source": [
    "df.head()"
   ]
  },
  {
   "cell_type": "code",
   "execution_count": 6,
   "id": "typical-think",
   "metadata": {
    "scrolled": true
   },
   "outputs": [],
   "source": [
    "%matplotlib inline\n",
    "import matplotlib.pyplot as plt\n",
    "import numpy as np"
   ]
  },
  {
   "cell_type": "markdown",
   "id": "08ca6b25",
   "metadata": {},
   "source": [
    "### Training various models with standardized datasets using the scikit-learn"
   ]
  },
  {
   "cell_type": "markdown",
   "id": "74826753",
   "metadata": {},
   "source": [
    "- The 10 features of the dataset are extracted for training.\n",
    "- Class lable 0 refers to true news, 1 refers to fake news."
   ]
  },
  {
   "cell_type": "code",
   "execution_count": 7,
   "id": "d8009709",
   "metadata": {},
   "outputs": [
    {
     "name": "stdout",
     "output_type": "stream",
     "text": [
      "Class labels: [0 1]\n"
     ]
    }
   ],
   "source": [
    "from sklearn import datasets\n",
    "\n",
    "#We extract all features for training. We do not know which features are most relevant at this moment.\n",
    "\n",
    "#X = df.iloc[:, [1,2,3,4,5,6,7,8,9,10]].values\n",
    "X = df.iloc[:, [1,2,3]].values\n",
    "y = df.iloc[:, 0].values\n",
    "\n",
    "print('Class labels:', np.unique(y))"
   ]
  },
  {
   "cell_type": "code",
   "execution_count": 8,
   "id": "21992d3b",
   "metadata": {},
   "outputs": [],
   "source": [
    "# shuffles the training datasets internally before splitting\n",
    "# stratify=y means: have the same proportions of class labels as the input dataset\n",
    "# split the X and y arrays into 30 percent test data\n",
    "from sklearn.model_selection import train_test_split\n",
    "\n",
    "X_train, X_test, y_train, y_test = train_test_split(X, y, test_size=0.3, random_state=1, stratify=y)\n",
    "\n",
    "# show the shape of the ndarray \n",
    "#X_train.shape\n",
    "#X_test.shape"
   ]
  },
  {
   "cell_type": "code",
   "execution_count": 9,
   "id": "7e670a8d",
   "metadata": {},
   "outputs": [
    {
     "name": "stdout",
     "output_type": "stream",
     "text": [
      "Labels counts in y: [1747  344]\n",
      "Labels counts in y_train: [1222  241]\n",
      "Labels counts in y_test: [525 103]\n"
     ]
    }
   ],
   "source": [
    "print('Labels counts in y:', np.bincount(y))\n",
    "print('Labels counts in y_train:', np.bincount(y_train))\n",
    "print('Labels counts in y_test:', np.bincount(y_test))"
   ]
  },
  {
   "cell_type": "code",
   "execution_count": 10,
   "id": "bb98839f",
   "metadata": {},
   "outputs": [],
   "source": [
    "# feature scaling for optimal performance\n",
    "from sklearn.preprocessing import StandardScaler\n",
    "\n",
    "# initialized a new StandardScaler object\n",
    "sc = StandardScaler()\n",
    "\n",
    "# estimaed the parameters of sample mean and standard deviation\n",
    "sc.fit(X_train)\n",
    "\n",
    "# standardized the training data with the estimated mean and standard deviation\n",
    "X_train_std = sc.transform(X_train)\n",
    "X_test_std = sc.transform(X_test)"
   ]
  },
  {
   "cell_type": "markdown",
   "id": "3907564a",
   "metadata": {},
   "source": [
    "### Training and testing dataset with a perceptron model"
   ]
  },
  {
   "cell_type": "code",
   "execution_count": 11,
   "id": "3c745040",
   "metadata": {},
   "outputs": [
    {
     "name": "stdout",
     "output_type": "stream",
     "text": [
      "Misclassified examples: 30\n",
      "Training accuracy: 0.938\n",
      "Test accuracy: 0.952\n"
     ]
    }
   ],
   "source": [
    "# Train a perceptron model\n",
    "from sklearn.linear_model import Perceptron\n",
    "\n",
    "# initialized a new Perceptron object and trained the model via the fit method\n",
    "ppn = Perceptron(eta0=0.1, random_state=1)\n",
    "ppn.fit(X_train_std, y_train)\n",
    "\n",
    "y_pred = ppn.predict(X_test_std)\n",
    "print('Misclassified examples: %d' % (y_test != y_pred).sum())\n",
    "\n",
    "from sklearn.metrics import accuracy_score\n",
    "\n",
    "print('Training accuracy: %.3f' % ppn.score(X_train_std, y_train))\n",
    "print('Test accuracy: %.3f' % ppn.score(X_test_std, y_test))\n"
   ]
  },
  {
   "cell_type": "markdown",
   "id": "8aa6c5d4",
   "metadata": {},
   "source": [
    "### Training and testing dataset with a KNN model"
   ]
  },
  {
   "cell_type": "code",
   "execution_count": 12,
   "id": "f36ac79e",
   "metadata": {},
   "outputs": [
    {
     "name": "stdout",
     "output_type": "stream",
     "text": [
      "Misclassified examples: 7\n",
      "Training accuracy: 0.979\n",
      "Test accuracy: 0.989\n"
     ]
    }
   ],
   "source": [
    "# Train a KNN model\n",
    "from sklearn.neighbors import KNeighborsClassifier\n",
    "\n",
    "knn = KNeighborsClassifier(n_neighbors=10, \n",
    "                           p=2, \n",
    "                           metric='minkowski')\n",
    "knn.fit(X_train_std, y_train)\n",
    "\n",
    "y_pred = knn.predict(X_test_std)\n",
    "print('Misclassified examples: %d' % (y_test != y_pred).sum())\n",
    "print('Training accuracy: %.3f' % knn.score(X_train_std, y_train))\n",
    "print('Test accuracy: %.3f' % knn.score(X_test_std, y_test))\n"
   ]
  },
  {
   "cell_type": "markdown",
   "id": "c7b389e9",
   "metadata": {},
   "source": [
    "### Training and testing dataset with a Logistic Regression model"
   ]
  },
  {
   "cell_type": "code",
   "execution_count": 13,
   "id": "convertible-balloon",
   "metadata": {},
   "outputs": [
    {
     "name": "stdout",
     "output_type": "stream",
     "text": [
      "Misclassified examples: 15\n",
      "Training accuracy: 0.964\n",
      "Test accuracy: 0.976\n"
     ]
    }
   ],
   "source": [
    "# Train a LogisticRegression model\n",
    "from sklearn.linear_model import LogisticRegression\n",
    "\n",
    "lr = LogisticRegression(C=100.0, random_state=1, solver='lbfgs', multi_class='ovr')\n",
    "lr.fit(X_train_std, y_train)\n",
    "\n",
    "y_pred = lr.predict(X_test_std)\n",
    "print('Misclassified examples: %d' % (y_test != y_pred).sum())\n",
    "\n",
    "print('Training accuracy: %.3f' % lr.score(X_train_std, y_train))\n",
    "print('Test accuracy: %.3f' % lr.score(X_test_std, y_test))\n"
   ]
  },
  {
   "cell_type": "markdown",
   "id": "50c66ae6",
   "metadata": {},
   "source": [
    "### Training and testing the dataset with an SVM model"
   ]
  },
  {
   "cell_type": "code",
   "execution_count": 14,
   "id": "907202f2",
   "metadata": {},
   "outputs": [
    {
     "name": "stdout",
     "output_type": "stream",
     "text": [
      "Misclassified examples: 103\n",
      "Training accuracy 0.835\n",
      "Test accuracy 0.836\n"
     ]
    }
   ],
   "source": [
    "#Train a SVM with RBF kernel\n",
    "from sklearn.svm import SVC\n",
    "\n",
    "svm = SVC(kernel='rbf', random_state=10, gamma=0.03, C=1.0)\n",
    "svm.fit(X_train_std, y_train)\n",
    "\n",
    "y_pred = svm.predict(X_test_std)\n",
    "print('Misclassified examples: %d' % (y_test != y_pred).sum())\n",
    "\n",
    "print('Training accuracy %.3f' % svm.score(X_train_std, y_train))\n",
    "print('Test accuracy %.3f' % svm.score(X_test_std, y_test))\n"
   ]
  },
  {
   "cell_type": "markdown",
   "id": "bdb21078",
   "metadata": {},
   "source": [
    "### Training and testing the dataset with a Decision Tree model"
   ]
  },
  {
   "cell_type": "code",
   "execution_count": 15,
   "id": "07ad3343",
   "metadata": {},
   "outputs": [
    {
     "name": "stdout",
     "output_type": "stream",
     "text": [
      "Misclassified examples: 6\n",
      "Training accuracy: 0.986\n",
      "Test accuracy: 0.990\n"
     ]
    }
   ],
   "source": [
    "# Train a Decision Tree model\n",
    "from sklearn.tree import DecisionTreeClassifier\n",
    "\n",
    "tree_model = DecisionTreeClassifier(criterion='gini', \n",
    "                                    max_depth=3, \n",
    "                                    random_state=1)\n",
    "tree_model.fit(X_train_std, y_train)\n",
    "\n",
    "y_pred = tree_model.predict(X_test_std)\n",
    "print('Misclassified examples: %d' % (y_test != y_pred).sum())\n",
    "\n",
    "print('Training accuracy: %.3f' % tree_model.score(X_train_std, y_train))\n",
    "print('Test accuracy: %.3f' % tree_model.score(X_test_std, y_test))"
   ]
  },
  {
   "cell_type": "markdown",
   "id": "e2c35ff2",
   "metadata": {},
   "source": [
    "### Training and testing the dataset with a Random Forest model"
   ]
  },
  {
   "cell_type": "code",
   "execution_count": 16,
   "id": "e2ef60f2",
   "metadata": {},
   "outputs": [
    {
     "name": "stdout",
     "output_type": "stream",
     "text": [
      "Misclassified examples: 5\n",
      "Training accuracy: 0.999\n",
      "Test accuracy: 0.992\n"
     ]
    }
   ],
   "source": [
    "# Train a Random Forest model\n",
    "\n",
    "from sklearn.ensemble import RandomForestClassifier\n",
    "\n",
    "forest = RandomForestClassifier(criterion='gini',\n",
    "                                n_estimators=25, \n",
    "                                random_state=1,\n",
    "                                n_jobs=2)\n",
    "\n",
    "forest.fit(X_train_std, y_train)\n",
    "y_pred = forest.predict(X_test_std)\n",
    "\n",
    "print('Misclassified examples: %d' % (y_test != y_pred).sum())\n",
    "print('Training accuracy: %.3f' % forest.score(X_train_std, y_train))\n",
    "print('Test accuracy: %.3f' % forest.score(X_test_std, y_test))\n"
   ]
  },
  {
   "cell_type": "markdown",
   "id": "efb05e2d",
   "metadata": {},
   "source": [
    "## Find the Most Relevant Features in Fake News Classification\n",
    "\n",
    "#### Select 25% of sample data for testing"
   ]
  },
  {
   "cell_type": "code",
   "execution_count": 17,
   "id": "d2cfb2bf",
   "metadata": {},
   "outputs": [],
   "source": [
    "#This part is the Sequential feature selection algorithms\n",
    "#Now only 25% of sample is selected for testing\n",
    "\n",
    "from sklearn.base import clone\n",
    "from itertools import combinations\n",
    "import numpy as np\n",
    "from sklearn.metrics import accuracy_score\n",
    "from sklearn.model_selection import train_test_split\n",
    "\n",
    "\n",
    "class SBS():\n",
    "    def __init__(self, estimator, k_features, scoring=accuracy_score,\n",
    "                 test_size=0.25, random_state=1):\n",
    "        self.scoring = scoring\n",
    "        self.estimator = clone(estimator)\n",
    "        self.k_features = k_features\n",
    "        self.test_size = test_size\n",
    "        self.random_state = random_state\n",
    "\n",
    "    def fit(self, X, y):\n",
    "        \n",
    "        X_train, X_test, y_train, y_test = \\\n",
    "            train_test_split(X, y, test_size=self.test_size,\n",
    "                             random_state=self.random_state)\n",
    "\n",
    "        dim = X_train.shape[1]\n",
    "        self.indices_ = tuple(range(dim))\n",
    "        self.subsets_ = [self.indices_]\n",
    "        score = self._calc_score(X_train, y_train, \n",
    "                                 X_test, y_test, self.indices_)\n",
    "        self.scores_ = [score]\n",
    "\n",
    "        while dim > self.k_features:\n",
    "            scores = []\n",
    "            subsets = []\n",
    "\n",
    "            for p in combinations(self.indices_, r=dim - 1):\n",
    "                score = self._calc_score(X_train, y_train, \n",
    "                                         X_test, y_test, p)\n",
    "                scores.append(score)\n",
    "                subsets.append(p)\n",
    "\n",
    "            best = np.argmax(scores)\n",
    "            self.indices_ = subsets[best]\n",
    "            self.subsets_.append(self.indices_)\n",
    "            dim -= 1\n",
    "\n",
    "            self.scores_.append(scores[best])\n",
    "        self.k_score_ = self.scores_[-1]\n",
    "\n",
    "        return self\n",
    "\n",
    "    def transform(self, X):\n",
    "        return X[:, self.indices_]\n",
    "\n",
    "    def _calc_score(self, X_train, y_train, X_test, y_test, indices):\n",
    "        self.estimator.fit(X_train[:, indices], y_train)\n",
    "        y_pred = self.estimator.predict(X_test[:, indices])\n",
    "        score = self.scoring(y_test, y_pred)\n",
    "        return score"
   ]
  },
  {
   "cell_type": "markdown",
   "id": "495c74b8",
   "metadata": {},
   "source": [
    "### Check the accuracy of perceptron using diffent number of features"
   ]
  },
  {
   "cell_type": "code",
   "execution_count": 21,
   "id": "564f489d",
   "metadata": {},
   "outputs": [
    {
     "data": {
      "image/png": "[encoded data removed]",
      "text/plain": [
       "<Figure size 432x288 with 1 Axes>"
      ]
     },
     "metadata": {
      "needs_background": "light"
     },
     "output_type": "display_data"
    },
    {
     "name": "stdout",
     "output_type": "stream",
     "text": [
      "Index(['repost_num'], dtype='object')\n"
     ]
    }
   ],
   "source": [
    "#Check the accuracy of Perceptron classifier on various number of features\n",
    "\n",
    "# selecting features\n",
    "sbs = SBS(ppn, k_features=1)\n",
    "sbs.fit(X_train_std, y_train)\n",
    "\n",
    "# plotting performance of feature subsets\n",
    "k_feat = [len(k) for k in sbs.subsets_]\n",
    "\n",
    "plt.plot(k_feat, sbs.scores_, marker='o')\n",
    "plt.ylim([0.7, 1.02])\n",
    "plt.ylabel('Accuracy')\n",
    "plt.xlabel('Number of features')\n",
    "plt.grid()\n",
    "plt.tight_layout()\n",
    "#plt.savefig('images/ppn.png', dpi=300)\n",
    "plt.show()\n",
    "\n",
    "feat = list(sbs.subsets_[2])\n",
    "print(df.columns[0:3][feat])\n"
   ]
  },
  {
   "cell_type": "markdown",
   "id": "dbb48fec",
   "metadata": {},
   "source": [
    "### Check the accuracy of KNN model using diffent number of features"
   ]
  },
  {
   "cell_type": "code",
   "execution_count": 25,
   "id": "b33dcbb3",
   "metadata": {},
   "outputs": [
    {
     "data": {
      "image/png": "[encoded data removed]",
      "text/plain": [
       "<Figure size 432x288 with 1 Axes>"
      ]
     },
     "metadata": {
      "needs_background": "light"
     },
     "output_type": "display_data"
    },
    {
     "name": "stdout",
     "output_type": "stream",
     "text": [
      "Index(['repost_num'], dtype='object')\n"
     ]
    }
   ],
   "source": [
    "#Check the accuracy of KNN model on various number of features\n",
    "\n",
    "knn = KNeighborsClassifier(n_neighbors=5)\n",
    "\n",
    "# selecting features\n",
    "sbs = SBS(knn, k_features=1)\n",
    "sbs.fit(X_train_std, y_train)\n",
    "\n",
    "# plotting performance of feature subsets\n",
    "k_feat = [len(k) for k in sbs.subsets_]\n",
    "\n",
    "plt.plot(k_feat, sbs.scores_, marker='o')\n",
    "plt.ylim([0.7, 1.02])\n",
    "plt.ylabel('Accuracy')\n",
    "plt.xlabel('Number of features')\n",
    "plt.grid()\n",
    "plt.tight_layout()\n",
    "#plt.savefig('images/knn.png', dpi=300)\n",
    "plt.show()\n",
    "\n",
    "#The result shows even 1 feature could achieve very high accuracy\n",
    "#By using 2 features, namely Comment_num and Title_Len, we achieve the highest accuracy.\n",
    "\n",
    "feat = list(sbs.subsets_[2])\n",
    "print(df.columns[0:3][feat])"
   ]
  },
  {
   "cell_type": "markdown",
   "id": "730afc46",
   "metadata": {},
   "source": [
    "### Check the accuracy of Logistic Regression model using diffent number of features"
   ]
  },
  {
   "cell_type": "code",
   "execution_count": 28,
   "id": "80ddbf89",
   "metadata": {},
   "outputs": [
    {
     "data": {
      "image/png": "[encoded data removed]",
      "text/plain": [
       "<Figure size 432x288 with 1 Axes>"
      ]
     },
     "metadata": {
      "needs_background": "light"
     },
     "output_type": "display_data"
    },
    {
     "name": "stdout",
     "output_type": "stream",
     "text": [
      "Index(['comment_num'], dtype='object')\n"
     ]
    }
   ],
   "source": [
    "#Check the accuracy of Logistic Regression model on various number of features\n",
    "\n",
    "# selecting features\n",
    "sbs = SBS(lr, k_features=1)\n",
    "sbs.fit(X_train_std, y_train)\n",
    "\n",
    "# plotting performance of feature subsets\n",
    "k_feat = [len(k) for k in sbs.subsets_]\n",
    "\n",
    "plt.plot(k_feat, sbs.scores_, marker='o')\n",
    "plt.ylim([0.7, 1.02])\n",
    "plt.ylabel('Accuracy')\n",
    "plt.xlabel('Number of features')\n",
    "plt.grid()\n",
    "plt.tight_layout()\n",
    "#plt.savefig('images/lr.png', dpi=300)\n",
    "plt.show()\n",
    "\n",
    "#The result shows even 1 feature could achieve very high accuracy\n",
    "#By using 3 features, namely Comment_num, Like_num and TitleLen, we achieve the highest accuracy.\n",
    "\n",
    "feat = list(sbs.subsets_[2])\n",
    "print(df.columns[1:4][feat])"
   ]
  },
  {
   "cell_type": "markdown",
   "id": "25b1ce5b",
   "metadata": {},
   "source": [
    "### Check the accuracy of SVM model using diffent number of features"
   ]
  },
  {
   "cell_type": "code",
   "execution_count": 29,
   "id": "c060488a",
   "metadata": {},
   "outputs": [
    {
     "data": {
      "image/png": "[encoded data removed]",
      "text/plain": [
       "<Figure size 432x288 with 1 Axes>"
      ]
     },
     "metadata": {
      "needs_background": "light"
     },
     "output_type": "display_data"
    },
    {
     "name": "stdout",
     "output_type": "stream",
     "text": [
      "Index(['comment_num'], dtype='object')\n"
     ]
    }
   ],
   "source": [
    "#Check the accuracy of SVM classifier on various number of features\n",
    "\n",
    "# selecting features\n",
    "sbs = SBS(svm, k_features=1)\n",
    "sbs.fit(X_train_std, y_train)\n",
    "\n",
    "# plotting performance of feature subsets\n",
    "k_feat = [len(k) for k in sbs.subsets_]\n",
    "\n",
    "plt.plot(k_feat, sbs.scores_, marker='o')\n",
    "plt.ylim([0.85, 1.02])\n",
    "plt.ylabel('Accuracy')\n",
    "plt.xlabel('Number of features')\n",
    "plt.grid()\n",
    "plt.tight_layout()\n",
    "#plt.savefig('images/svm.png', dpi=300)\n",
    "plt.show()\n",
    "\n",
    "feat = list(sbs.subsets_[2])\n",
    "print(df.columns[1:3][feat])"
   ]
  },
  {
   "cell_type": "markdown",
   "id": "e9f63f0d",
   "metadata": {},
   "source": [
    "### Check the accuracy of Decision Tree model using diffent number of features"
   ]
  },
  {
   "cell_type": "code",
   "execution_count": 49,
   "id": "58b98146",
   "metadata": {},
   "outputs": [
    {
     "data": {
      "image/png": "[encoded data removed]",
      "text/plain": [
       "<Figure size 432x288 with 1 Axes>"
      ]
     },
     "metadata": {
      "needs_background": "light"
     },
     "output_type": "display_data"
    },
    {
     "name": "stdout",
     "output_type": "stream",
     "text": [
      "Index(['WordPerSentence'], dtype='object')\n"
     ]
    }
   ],
   "source": [
    "#Check the accuracy of Decision Tree classifier on various number of features\n",
    "\n",
    "# selecting features\n",
    "sbs = SBS(tree_model, k_features=1)\n",
    "sbs.fit(X_train_std, y_train)\n",
    "\n",
    "# plotting performance of feature subsets\n",
    "k_feat = [len(k) for k in sbs.subsets_]\n",
    "\n",
    "plt.plot(k_feat, sbs.scores_, marker='o')\n",
    "plt.ylim([0.85, 1.02])\n",
    "plt.ylabel('Accuracy')\n",
    "plt.xlabel('Number of features')\n",
    "plt.grid()\n",
    "plt.tight_layout()\n",
    "#plt.savefig('images/tree_model.png', dpi=300)\n",
    "plt.show()\n",
    "\n",
    "feat = list(sbs.subsets_[2])\n",
    "print(df.columns[1:3][feat])"
   ]
  },
  {
   "cell_type": "markdown",
   "id": "6167ad45",
   "metadata": {},
   "source": [
    "### Check the accuracy of Random Forest using diffent number of features"
   ]
  },
  {
   "cell_type": "code",
   "execution_count": 35,
   "id": "229fd938",
   "metadata": {},
   "outputs": [
    {
     "data": {
      "image/png": "[encoded data removed]",
      "text/plain": [
       "<Figure size 432x288 with 1 Axes>"
      ]
     },
     "metadata": {
      "needs_background": "light"
     },
     "output_type": "display_data"
    },
    {
     "name": "stdout",
     "output_type": "stream",
     "text": [
      "Index(['like_num'], dtype='object')\n"
     ]
    }
   ],
   "source": [
    "#Check the accuracy of Random Forest classifier on various number of features\n",
    "\n",
    "# selecting features\n",
    "sbs = SBS(forest, k_features=1)\n",
    "sbs.fit(X_train_std, y_train)\n",
    "\n",
    "# plotting performance of feature subsets\n",
    "k_feat = [len(k) for k in sbs.subsets_]\n",
    "\n",
    "plt.plot(k_feat, sbs.scores_, marker='o')\n",
    "plt.ylim([0.85, 1.02])\n",
    "plt.ylabel('Accuracy')\n",
    "plt.xlabel('Number of features')\n",
    "plt.grid()\n",
    "plt.tight_layout()\n",
    "#plt.savefig('images/forest.png', dpi=300)\n",
    "plt.show()\n",
    "\n",
    "k3 = list(sbs.subsets_[2])\n",
    "print(df.columns[1:4][k3])\n"
   ]
  },
  {
   "cell_type": "markdown",
   "id": "8cdca3c8",
   "metadata": {},
   "source": [
    "### Rank the importance of features"
   ]
  },
  {
   "cell_type": "code",
   "execution_count": 32,
   "id": "0c7640b9",
   "metadata": {},
   "outputs": [
    {
     "name": "stdout",
     "output_type": "stream",
     "text": [
      " 1) like_num                       0.337377\n",
      " 2) repost_num                     0.332610\n",
      " 3) comment_num                    0.330014\n"
     ]
    },
    {
     "data": {
      "image/png": "[encoded data removed]",
      "text/plain": [
       "<Figure size 432x288 with 1 Axes>"
      ]
     },
     "metadata": {
      "needs_background": "light"
     },
     "output_type": "display_data"
    }
   ],
   "source": [
    "from sklearn.ensemble import RandomForestClassifier\n",
    "\n",
    "feat_labels = df.columns[1:4]\n",
    "\n",
    "forest = RandomForestClassifier(n_estimators=500,\n",
    "                                random_state=1)\n",
    "\n",
    "forest.fit(X_train, y_train)\n",
    "\n",
    "importances = forest.feature_importances_\n",
    "\n",
    "indices = np.argsort(importances)[::-1]\n",
    "\n",
    "for f in range(X_train.shape[1]):\n",
    "    print(\"%2d) %-*s %f\" % (f + 1, 30, \n",
    "                            feat_labels[indices[f]], \n",
    "                            importances[indices[f]]))\n",
    "\n",
    "plt.title('Feature Importance')\n",
    "plt.bar(range(X_train.shape[1]), \n",
    "        importances[indices],\n",
    "        align='center')\n",
    "\n",
    "plt.xticks(range(X_train.shape[1]), \n",
    "           feat_labels[indices], rotation=90)\n",
    "plt.xlim([-1, X_train.shape[1]])\n",
    "plt.tight_layout()\n",
    "#plt.savefig('images/forest_feature.png', dpi=300)\n",
    "plt.show()\n",
    "\n",
    "#Note: For random forest technique, if two or more features are highly correlated, one feature may be ranked\n",
    "#very highly while the information on the other feature may not be fully captured."
   ]
  },
  {
   "cell_type": "code",
   "execution_count": null,
   "id": "06d11788",
   "metadata": {},
   "outputs": [],
   "source": []
  },
  {
   "cell_type": "code",
   "execution_count": null,
   "id": "0ea21e5d",
   "metadata": {},
   "outputs": [],
   "source": []
  }
 ],
 "metadata": {
  "kernelspec": {
   "display_name": "Python 3 (ipykernel)",
   "language": "python",
   "name": "python3"
  },
  "language_info": {
   "codemirror_mode": {
    "name": "ipython",
    "version": 3
   },
   "file_extension": ".py",
   "mimetype": "text/x-python",
   "name": "python",
   "nbconvert_exporter": "python",
   "pygments_lexer": "ipython3",
   "version": "3.9.7"
  }
 },
 "nbformat": 4,
 "nbformat_minor": 5
}
